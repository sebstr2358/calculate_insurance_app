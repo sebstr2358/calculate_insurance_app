{
 "cells": [
  {
   "cell_type": "code",
   "execution_count": 1,
   "metadata": {},
   "outputs": [],
   "source": [
    "from dotenv import dotenv_values\n",
    "from openai import OpenAI\n",
    "import instructor\n",
    "from pydantic import BaseModel\n",
    "from typing import Optional\n",
    "import pandas as pd\n",
    "from pycaret.regression import load_model, predict_model"
   ]
  },
  {
   "cell_type": "code",
   "execution_count": 2,
   "metadata": {},
   "outputs": [],
   "source": [
    "env = dotenv_values(\".env\")\n",
    "\n",
    "openai_client = OpenAI(api_key=env[\"OPENAI_API_KEY\"])"
   ]
  },
  {
   "cell_type": "code",
   "execution_count": 3,
   "metadata": {},
   "outputs": [],
   "source": [
    "instructor_openai_client = instructor.from_openai(openai_client)"
   ]
  },
  {
   "cell_type": "markdown",
   "metadata": {},
   "source": [
    "## Zamykamy model w funkcji"
   ]
  },
  {
   "cell_type": "code",
   "execution_count": 4,
   "metadata": {},
   "outputs": [],
   "source": [
    " # Konwersja tekstu do formatu json\n",
    "def retrieve_structure(text: str, response_model: BaseModel):\n",
    "    response = instructor_openai_client.chat.completions.create(\n",
    "        model=\"gpt-4o-mini\",\n",
    "        temperature=0,\n",
    "        response_model=response_model,\n",
    "        messages=[\n",
    "            {\n",
    "                \"role\": \"user\",\n",
    "                \"content\": text,\n",
    "            },\n",
    "        ],\n",
    "    )\n",
    "    \n",
    "    return response.model_dump()"
   ]
  },
  {
   "cell_type": "code",
   "execution_count": 5,
   "metadata": {},
   "outputs": [],
   "source": [
    "def validate_response_data(person):\n",
    "    if (person.gender in [None, ''] or \n",
    "        person.age is None or \n",
    "        person.weight is None or \n",
    "        person.height is None or \n",
    "        person.children is None or\n",
    "        person.smoker in [None, ''] or \n",
    "        (person.region.lower() != 'północny wschód' and person.region.lower() != 'południowy wschód' and person.region.lower() != 'północny zachód' and person.region.lower() != 'południowy zachód')): \n",
    "        return None\n",
    "    else:\n",
    "        # Upewnij się, że wartości są poprawne przed porównaniem\n",
    "        if (person.age > 0 and person.weight > 0 and person.height > 0 and person.children >= 0):  # Przykładowe porównania\n",
    "            return person\n",
    "        else:\n",
    "            print(\"🛑 Niepoprawne wartości dla jednego z pól!\")\n",
    "            return None"
   ]
  },
  {
   "cell_type": "code",
   "execution_count": 6,
   "metadata": {},
   "outputs": [],
   "source": [
    "class SpeechPerson(BaseModel):\n",
    "    gender: Optional[str]\n",
    "    age: Optional[int]\n",
    "    weight: Optional[int]\n",
    "    height: Optional[float]\n",
    "    children: Optional[int]\n",
    "    smoker: Optional[str]\n",
    "    region: Optional[str]"
   ]
  },
  {
   "cell_type": "code",
   "execution_count": 12,
   "metadata": {},
   "outputs": [
    {
     "name": "stdout",
     "output_type": "stream",
     "text": [
      "19.723865877712033\n"
     ]
    }
   ],
   "source": [
    "result_data = retrieve_structure(\n",
    "    text=\"Mam 40 lat, jestem Kobietą, ważę 75kg, mam 195 wzrostu, mam 1 dziecko, palę, mieszkam w północnym wschodzie\",\n",
    "    response_model=SpeechPerson\n",
    "    )\n",
    "\n",
    "                # Create an instance of response_model to leverage Pydantic validation\n",
    "person = SpeechPerson(**result_data)\n",
    "validated_person = validate_response_data(person=person)\n",
    "\n",
    "if validated_person is None:\n",
    "    print(\"🛑 Brak jakiejś informacji! Nagraj notatkę jeszcze raz!\")\n",
    "else:\n",
    "    if validated_person.height > 3.0:\n",
    "        speech_bmi = validated_person.weight / ((validated_person.height / 100) ** 2)\n",
    "        print(speech_bmi)\n",
    "    else:\n",
    "        speech_bmi = validated_person.weight / (validated_person.height ** 2)\n",
    "        print(speech_bmi)"
   ]
  },
  {
   "cell_type": "code",
   "execution_count": 13,
   "metadata": {},
   "outputs": [
    {
     "data": {
      "text/html": [
       "<div>\n",
       "<style scoped>\n",
       "    .dataframe tbody tr th:only-of-type {\n",
       "        vertical-align: middle;\n",
       "    }\n",
       "\n",
       "    .dataframe tbody tr th {\n",
       "        vertical-align: top;\n",
       "    }\n",
       "\n",
       "    .dataframe thead th {\n",
       "        text-align: right;\n",
       "    }\n",
       "</style>\n",
       "<table border=\"1\" class=\"dataframe\">\n",
       "  <thead>\n",
       "    <tr style=\"text-align: right;\">\n",
       "      <th></th>\n",
       "      <th>age</th>\n",
       "      <th>sex</th>\n",
       "      <th>bmi</th>\n",
       "      <th>children</th>\n",
       "      <th>smoker</th>\n",
       "      <th>region</th>\n",
       "    </tr>\n",
       "  </thead>\n",
       "  <tbody>\n",
       "    <tr>\n",
       "      <th>0</th>\n",
       "      <td>40</td>\n",
       "      <td>kobieta</td>\n",
       "      <td>19.72</td>\n",
       "      <td>1</td>\n",
       "      <td>tak</td>\n",
       "      <td>północny wschód</td>\n",
       "    </tr>\n",
       "  </tbody>\n",
       "</table>\n",
       "</div>"
      ],
      "text/plain": [
       "   age      sex    bmi  children smoker           region\n",
       "0   40  kobieta  19.72         1    tak  północny wschód"
      ]
     },
     "execution_count": 13,
     "metadata": {},
     "output_type": "execute_result"
    }
   ],
   "source": [
    "speech_person_df = pd.DataFrame([{\n",
    "    \"age\": validated_person.age,\n",
    "    \"sex\": validated_person.gender.lower(),\n",
    "    \"bmi\": round(speech_bmi, 2),\n",
    "    \"children\": validated_person.children,\n",
    "    \"smoker\": validated_person.smoker.lower(),\n",
    "    \"region\": validated_person.region.lower(),\n",
    "}])\n",
    "speech_person_df"
   ]
  },
  {
   "cell_type": "code",
   "execution_count": 14,
   "metadata": {},
   "outputs": [
    {
     "name": "stdout",
     "output_type": "stream",
     "text": [
      "Transformation Pipeline and Model Successfully Loaded\n"
     ]
    }
   ],
   "source": [
    "def get_model():\n",
    "    return load_model('v4_insurance_charge_regression')\n",
    "\n",
    "model = get_model()\n",
    "\n",
    "def predict_cost(model, data):\n",
    "    prediction = predict_model(model, data=data)\n",
    "    return round(prediction[\"prediction_label\"][0], 2)"
   ]
  },
  {
   "cell_type": "code",
   "execution_count": 15,
   "metadata": {},
   "outputs": [
    {
     "data": {
      "text/plain": [
       "17786.19"
      ]
     },
     "execution_count": 15,
     "metadata": {},
     "output_type": "execute_result"
    }
   ],
   "source": [
    "predicted_charge = predict_cost(model, speech_person_df)\n",
    "predicted_charge"
   ]
  },
  {
   "cell_type": "code",
   "execution_count": 16,
   "metadata": {},
   "outputs": [],
   "source": [
    "if speech_bmi > 24.9:\n",
    "    new_weight = person.weight - 10\n",
    "    new_bmi = new_weight / (person.height ** 2)\n",
    "    speech_person_df_lower_bmi = speech_person_df.copy()\n",
    "    speech_person_df_lower_bmi[\"bmi\"] = round(new_bmi, 2)\n",
    "    cost_lower_bmi = predict_cost(model, speech_person_df_lower_bmi)\n",
    "    if cost_lower_bmi < predicted_charge:\n",
    "        if person.smoker == \"tak\":\n",
    "            print(f\"- Zredukuj masę o 10 kg, a Twój koszt ubezpieczenia wyniesie {cost_lower_bmi}!\")\n",
    "        else:\n",
    "            print(f\"- Zredukuj masę o 10 kg, a Twój koszt ubezpieczenia wyniesie {cost_lower_bmi}\")\n",
    "\n",
    "if speech_bmi < 18.5:\n",
    "    new_weight = person.weight + 10\n",
    "    new_bmi = new_weight / (person.height ** 2)\n",
    "    speech_person_df_higher_bmi = speech_person_df.copy()\n",
    "    speech_person_df_higher_bmi[\"bmi\"] = round(new_bmi, 2)\n",
    "    cost_higher_bmi = predict_cost(model, speech_person_df_higher_bmi)\n",
    "    if cost_higher_bmi < predicted_charge:\n",
    "        if person.smoker == \"tak\":\n",
    "            print(f\"- Zwiększ masę o 10 kg, a Twój koszt ubezpieczenia wyniesie {cost_higher_bmi}\")\n",
    "        else:\n",
    "            print(f\"- Zwiększ masę o 10 kg, a Twój koszt ubezpieczenia wyniesie {cost_higher_bmi}\")"
   ]
  }
 ],
 "metadata": {
  "kernelspec": {
   "display_name": "app_predict_insurance",
   "language": "python",
   "name": "python3"
  },
  "language_info": {
   "codemirror_mode": {
    "name": "ipython",
    "version": 3
   },
   "file_extension": ".py",
   "mimetype": "text/x-python",
   "name": "python",
   "nbconvert_exporter": "python",
   "pygments_lexer": "ipython3",
   "version": "3.11.11"
  }
 },
 "nbformat": 4,
 "nbformat_minor": 4
}
